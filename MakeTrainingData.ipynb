{
 "cells": [
  {
   "cell_type": "code",
   "execution_count": 5,
   "metadata": {},
   "outputs": [
    {
     "name": "stderr",
     "output_type": "stream",
     "text": [
      "100%|██████████| 445/445 [00:36<00:00, 12.05it/s]\n"
     ]
    }
   ],
   "source": [
    "import numpy as np\n",
    "import matplotlib.pyplot as plt\n",
    "import os \n",
    "import math\n",
    "from tqdm import tqdm\n",
    "import Util as ut\n",
    "# import seaborn as sns\n",
    "import DataLoader\n",
    "import traceback\n",
    "import pandas as pd\n",
    "\n",
    "%matplotlib inline\n",
    "\n",
    "import PeakSearcher\n",
    "\n",
    "indir = '/Users/yhamae/OneDrive/astro/FLASHING/spectrum/'\n",
    "outdir = '/Users/yhamae/OneDrive/astro/FLASHING/train/'\n",
    "ref_freq_list = ['H2O', 'SiOv3', 'SiOv2', 'SiOv1', 'SiOv0']\n",
    "\n",
    "err_file = []\n",
    "\n",
    "source_list = []\n",
    "file_list = os.listdir(indir)\n",
    "os.chdir(indir)\n",
    "\n",
    "for fname in file_list:\n",
    "    if not fname.split('_')[0] in [source_list[i][0] for i in range(0, len(source_list))]:\n",
    "        for val in ref_freq_list:\n",
    "            source_list.append([fname.split('_')[0], val])\n",
    "\n",
    "for lis1 in tqdm(source_list):\n",
    "#     print(lis1)\n",
    "    in_file_list = []\n",
    "    data = {}\n",
    "    for fl in file_list:\n",
    "        if lis1[0] == fl.split('_')[0] and lis1[1] == fl.split('_')[1]:\n",
    "            in_file_list.append(fl)\n",
    "    if len(in_file_list) == 0:\n",
    "        continue\n",
    "    \n",
    "    for read_fname in in_file_list:\n",
    "        dl = DataLoader.GetSpectrum()\n",
    "        dl.filename = read_fname\n",
    "        dl.get_data()\n",
    "        if dl.MJD == 'N/A':\n",
    "            continue\n",
    "        data[float(dl.MJD)] = []\n",
    "        for channel, freq, T in zip(dl.channel, dl.freq, dl.T):\n",
    "            data[dl.MJD].append([float(channel), float(freq), float(T)])\n",
    "    check_freq = []\n",
    "    if len(data.keys()) == 1:\n",
    "        continue\n",
    "#     else:\n",
    "#         check_freq = [lis[1] for lis in data[list(data.keys())[0]]]\n",
    "#     for key in list(data.keys())[1:]:\n",
    "#         for i, f in enumerate(data[key]):\n",
    "#             if f[1] != check_freq[i]:\n",
    "#                 print('LSR V is not match!!')\n",
    "    exp_data = []\n",
    "#     print(data.keys())\n",
    "    for i in range(0, 2048):\n",
    "#         tmp_lis = [check_freq[i]]\n",
    "        tmp_lis = []\n",
    "        for key in data.keys():\n",
    "#             tmp_lis.apabspend(data[key][i][2])\n",
    "            if len(data[key]) > i:\n",
    "                tmp_lis.extend(data[key][i][1:3])\n",
    "            else:\n",
    "                tmp_lis.extend([0,0])\n",
    "        exp_data.append(tmp_lis)\n",
    "#     print(exp_data)\n",
    "#     col = ['LSR Velocity(km/s)']\n",
    "    col = []\n",
    "#     col.extend(data.keys())\n",
    "    for key in data.keys():\n",
    "        col.extend([str(key) + '_LSR_v', str(key) + ''])\n",
    "    df = pd.DataFrame(exp_data, columns = col)\n",
    "    df.to_csv(outdir + lis1[0] + '_' + lis1[1] + '.csv')\n",
    "    "
   ]
  },
  {
   "cell_type": "code",
   "execution_count": null,
   "metadata": {},
   "outputs": [],
   "source": []
  }
 ],
 "metadata": {
  "kernelspec": {
   "display_name": "Python 3",
   "language": "python",
   "name": "python3"
  },
  "language_info": {
   "codemirror_mode": {
    "name": "ipython",
    "version": 3
   },
   "file_extension": ".py",
   "mimetype": "text/x-python",
   "name": "python",
   "nbconvert_exporter": "python",
   "pygments_lexer": "ipython3",
   "version": "3.7.2"
  }
 },
 "nbformat": 4,
 "nbformat_minor": 4
}
