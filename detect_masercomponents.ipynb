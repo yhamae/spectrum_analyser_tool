{
 "cells": [
  {
   "cell_type": "code",
   "execution_count": 1,
   "metadata": {},
   "outputs": [
    {
     "name": "stderr",
     "output_type": "stream",
     "text": [
      "100%|██████████| 1112/1112 [29:56<00:00,  1.55s/it]"
     ]
    },
    {
     "name": "stdout",
     "output_type": "stream",
     "text": [
      "--------------------------------\n",
      "Program has incorrectly finished\n",
      "15 Error found\n",
      "--------------------------------\n",
      "<<< Err files is bellow >>>\n",
      "- i18460_H2OR_190204.txt  (Can not read header)\n",
      "- i15193_SiOv1_181231.txt\n",
      "- w43_SiOv1_190202.txt\n",
      "- i15193_29SiO_181231.txt\n",
      "- i15193_SiOv3_181231.txt\n",
      "- w43_SiOv3_190202.txt\n",
      "- i15193_H2OB_190204.txt  (Can not read header)\n",
      "- Orion-KL_A14a_190215.txt  (Can not read header)\n",
      "- Orion-KL_A14a_190215.txt\n",
      "- i15193_H2OR_190204.txt  (Can not read header)\n",
      "- i15193_SiOv0_181231.txt\n",
      "- w43_SiOv0_190202.txt\n",
      "- i18460_SiOv0_190204.txt  (Can not read header)\n",
      "- i18460_H2OB_190204.txt  (Can not read header)\n",
      "- w43_SiOv2_190202.txt\n"
     ]
    },
    {
     "name": "stderr",
     "output_type": "stream",
     "text": [
      "\n"
     ]
    }
   ],
   "source": [
    "import sys\n",
    "import os\n",
    "import traceback\n",
    "import subprocess\n",
    "import statistics\n",
    "\n",
    "import Util\n",
    "import MaserSearch\n",
    "import DataLoader\n",
    "import PeakSearcher\n",
    "from tqdm import tqdm\n",
    "\n",
    "p = PeakSearcher.PeakSearch()\n",
    "# p.args = ''\n",
    "\n",
    "p.outfile = '/Users/yhamae/OneDrive/astro/FLASHING/peak/'\n",
    "p.snr = 4\n",
    "p.width = 1\n",
    "p.width2 = 0\n",
    "p.directory = '/Users/yhamae/OneDrive/astro/FLASHING/spectrum/'\n",
    "p.plotname = '/Users/yhamae/OneDrive/astro/FLASHING/plot/'\n",
    "# p.get_parameter_by_args()\n",
    "p.set_prm()\n",
    "if p.find_peak():\n",
    "    print(\"------------------------------\")\n",
    "    print(\"Program has correctly finished\")\n",
    "    print(\"------------------------------\")\n",
    "else:\n",
    "    print(\"--------------------------------\")\n",
    "    print(\"Program has incorrectly finished\")\n",
    "    print(str(len(p.Errfilelist)) + \" Error found\")\n",
    "    print(\"--------------------------------\")\n",
    "    print(\"<<< Err files is bellow >>>\")\n",
    "    print(\"- \", end = \"\")\n",
    "    print('\\n- '.join(p.Errfilelist))"
   ]
  },
  {
   "cell_type": "code",
   "execution_count": null,
   "metadata": {},
   "outputs": [],
   "source": []
  }
 ],
 "metadata": {
  "kernelspec": {
   "display_name": "Python 3",
   "language": "python",
   "name": "python3"
  },
  "language_info": {
   "codemirror_mode": {
    "name": "ipython",
    "version": 3
   },
   "file_extension": ".py",
   "mimetype": "text/x-python",
   "name": "python",
   "nbconvert_exporter": "python",
   "pygments_lexer": "ipython3",
   "version": "3.7.3"
  }
 },
 "nbformat": 4,
 "nbformat_minor": 2
}
